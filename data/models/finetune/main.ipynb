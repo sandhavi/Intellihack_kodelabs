{
 "cells": [
  {
   "cell_type": "code",
   "execution_count": 14,
   "id": "cda93263",
   "metadata": {},
   "outputs": [],
   "source": [
    "import openai\n",
    "import pandas as pd"
   ]
  },
  {
   "cell_type": "code",
   "execution_count": 15,
   "id": "28c8d14a",
   "metadata": {},
   "outputs": [],
   "source": [
    "df = pd.read_excel('drone_dataset.xlsx')"
   ]
  },
  {
   "cell_type": "code",
   "execution_count": 16,
   "id": "d37630d6",
   "metadata": {},
   "outputs": [
    {
     "data": {
      "text/html": [
       "<div>\n",
       "<style scoped>\n",
       "    .dataframe tbody tr th:only-of-type {\n",
       "        vertical-align: middle;\n",
       "    }\n",
       "\n",
       "    .dataframe tbody tr th {\n",
       "        vertical-align: top;\n",
       "    }\n",
       "\n",
       "    .dataframe thead th {\n",
       "        text-align: right;\n",
       "    }\n",
       "</style>\n",
       "<table border=\"1\" class=\"dataframe\">\n",
       "  <thead>\n",
       "    <tr style=\"text-align: right;\">\n",
       "      <th></th>\n",
       "      <th>ID</th>\n",
       "      <th>Drone_Type</th>\n",
       "      <th>Speed</th>\n",
       "      <th>Colors</th>\n",
       "      <th>Safety_Details</th>\n",
       "    </tr>\n",
       "  </thead>\n",
       "  <tbody>\n",
       "    <tr>\n",
       "      <th>0</th>\n",
       "      <td>1</td>\n",
       "      <td>Toy</td>\n",
       "      <td>58 kmph</td>\n",
       "      <td>Grey, Green</td>\n",
       "      <td>No propeller guards, High maneuverability</td>\n",
       "    </tr>\n",
       "    <tr>\n",
       "      <th>1</th>\n",
       "      <td>2</td>\n",
       "      <td>Toy</td>\n",
       "      <td>90 kmph</td>\n",
       "      <td>Yellow, Grey</td>\n",
       "      <td>Equipped with GPS, Stable flight</td>\n",
       "    </tr>\n",
       "    <tr>\n",
       "      <th>2</th>\n",
       "      <td>3</td>\n",
       "      <td>Toy</td>\n",
       "      <td>44 kmph</td>\n",
       "      <td>White, Black</td>\n",
       "      <td>Collision detection, Stable flight</td>\n",
       "    </tr>\n",
       "    <tr>\n",
       "      <th>3</th>\n",
       "      <td>4</td>\n",
       "      <td>Photography</td>\n",
       "      <td>92 kmph</td>\n",
       "      <td>Red, Grey</td>\n",
       "      <td>No propeller guards, High speed</td>\n",
       "    </tr>\n",
       "    <tr>\n",
       "      <th>4</th>\n",
       "      <td>5</td>\n",
       "      <td>Professional</td>\n",
       "      <td>119 kmph</td>\n",
       "      <td>Grey, White</td>\n",
       "      <td>Propeller guards, Collision avoidance</td>\n",
       "    </tr>\n",
       "    <tr>\n",
       "      <th>...</th>\n",
       "      <td>...</td>\n",
       "      <td>...</td>\n",
       "      <td>...</td>\n",
       "      <td>...</td>\n",
       "      <td>...</td>\n",
       "    </tr>\n",
       "    <tr>\n",
       "      <th>95</th>\n",
       "      <td>96</td>\n",
       "      <td>Racing</td>\n",
       "      <td>106 kmph</td>\n",
       "      <td>Blue, Red</td>\n",
       "      <td>No propeller guards, High speed</td>\n",
       "    </tr>\n",
       "    <tr>\n",
       "      <th>96</th>\n",
       "      <td>97</td>\n",
       "      <td>Racing</td>\n",
       "      <td>101 kmph</td>\n",
       "      <td>Grey, Blue</td>\n",
       "      <td>No propeller guards, High speed</td>\n",
       "    </tr>\n",
       "    <tr>\n",
       "      <th>97</th>\n",
       "      <td>98</td>\n",
       "      <td>Surveillance</td>\n",
       "      <td>59 kmph</td>\n",
       "      <td>Yellow, Red</td>\n",
       "      <td>No propeller guards, High speed</td>\n",
       "    </tr>\n",
       "    <tr>\n",
       "      <th>98</th>\n",
       "      <td>99</td>\n",
       "      <td>Toy</td>\n",
       "      <td>27 kmph</td>\n",
       "      <td>Grey, White</td>\n",
       "      <td>Equipped with GPS, Stable flight</td>\n",
       "    </tr>\n",
       "    <tr>\n",
       "      <th>99</th>\n",
       "      <td>100</td>\n",
       "      <td>Surveillance</td>\n",
       "      <td>119 kmph</td>\n",
       "      <td>Yellow, Blue</td>\n",
       "      <td>Equipped with GPS, Stable flight</td>\n",
       "    </tr>\n",
       "  </tbody>\n",
       "</table>\n",
       "<p>100 rows × 5 columns</p>\n",
       "</div>"
      ],
      "text/plain": [
       "     ID    Drone_Type     Speed        Colors  \\\n",
       "0     1           Toy   58 kmph   Grey, Green   \n",
       "1     2           Toy   90 kmph  Yellow, Grey   \n",
       "2     3           Toy   44 kmph  White, Black   \n",
       "3     4   Photography   92 kmph     Red, Grey   \n",
       "4     5  Professional  119 kmph   Grey, White   \n",
       "..  ...           ...       ...           ...   \n",
       "95   96        Racing  106 kmph     Blue, Red   \n",
       "96   97        Racing  101 kmph    Grey, Blue   \n",
       "97   98  Surveillance   59 kmph   Yellow, Red   \n",
       "98   99           Toy   27 kmph   Grey, White   \n",
       "99  100  Surveillance  119 kmph  Yellow, Blue   \n",
       "\n",
       "                               Safety_Details  \n",
       "0   No propeller guards, High maneuverability  \n",
       "1            Equipped with GPS, Stable flight  \n",
       "2          Collision detection, Stable flight  \n",
       "3             No propeller guards, High speed  \n",
       "4       Propeller guards, Collision avoidance  \n",
       "..                                        ...  \n",
       "95            No propeller guards, High speed  \n",
       "96            No propeller guards, High speed  \n",
       "97            No propeller guards, High speed  \n",
       "98           Equipped with GPS, Stable flight  \n",
       "99           Equipped with GPS, Stable flight  \n",
       "\n",
       "[100 rows x 5 columns]"
      ]
     },
     "execution_count": 16,
     "metadata": {},
     "output_type": "execute_result"
    }
   ],
   "source": [
    "df"
   ]
  },
  {
   "cell_type": "code",
   "execution_count": 17,
   "id": "cde2b487",
   "metadata": {},
   "outputs": [],
   "source": [
    "df['response_strings'] = df.apply(lambda row: f\"\"\"Speed: {row['Speed']}\n",
    "Colors: {row['Colors']}\n",
    "Safety_Details: {row['Safety_Details']}\"\"\", axis=1)"
   ]
  },
  {
   "cell_type": "code",
   "execution_count": 18,
   "id": "dbf25e07",
   "metadata": {},
   "outputs": [
    {
     "name": "stdout",
     "output_type": "stream",
     "text": [
      "Speed: 90 kmph\n",
      "Colors: Yellow, Grey\n",
      "Safety_Details: Equipped with GPS, Stable flight\n"
     ]
    }
   ],
   "source": [
    "print(df.response_strings.values[1])"
   ]
  },
  {
   "cell_type": "code",
   "execution_count": 19,
   "id": "e0ed1187",
   "metadata": {},
   "outputs": [],
   "source": [
    "system_prompt = \"You are an assistant, detect drones.\""
   ]
  },
  {
   "cell_type": "code",
   "execution_count": 20,
   "id": "97191f47",
   "metadata": {},
   "outputs": [],
   "source": [
    "all_conversations = []\n",
    "\n",
    "for idx, row in df.iterrows():\n",
    "    all_conversations.append({\"messages\": [{\"role\": \"system\", \"content\": system_prompt},\n",
    "                                           {\"role\": \"user\", \"content\": row[\"Drone_Type\"]},\n",
    "                                           {\"role\": \"assistant\", \"content\": row['response_strings']}]})"
   ]
  },
  {
   "cell_type": "code",
   "execution_count": 21,
   "id": "62d7ab4f",
   "metadata": {},
   "outputs": [
    {
     "data": {
      "text/plain": [
       "{'messages': [{'role': 'system',\n",
       "   'content': 'You are an assistant, detect drones.'},\n",
       "  {'role': 'user', 'content': 'Toy'},\n",
       "  {'role': 'assistant',\n",
       "   'content': 'Speed: 58 kmph\\nColors: Grey, Green\\nSafety_Details: No propeller guards, High maneuverability'}]}"
      ]
     },
     "execution_count": 21,
     "metadata": {},
     "output_type": "execute_result"
    }
   ],
   "source": [
    "all_conversations[0]"
   ]
  },
  {
   "cell_type": "code",
   "execution_count": 22,
   "id": "5e83efcb",
   "metadata": {},
   "outputs": [],
   "source": [
    "import json\n",
    "\n",
    "with open('instances.jsonl', 'w') as f:\n",
    "    for conversation in all_conversations:\n",
    "        json.dump(conversation, f)\n",
    "        f.write('\\n')"
   ]
  },
  {
   "cell_type": "code",
   "execution_count": 24,
   "id": "1244be62",
   "metadata": {},
   "outputs": [],
   "source": [
    "def get_api_key(file_path):\n",
    "    with open(file_path, 'r') as file:\n",
    "        return file.read().strip()\n",
    "\n",
    "api = get_api_key('config.py')\n",
    "\n",
    "client = openai.OpenAI(api_key=api)"
   ]
  },
  {
   "cell_type": "code",
   "execution_count": 33,
   "id": "b0dcdbc9",
   "metadata": {},
   "outputs": [
    {
     "ename": "NameError",
     "evalue": "name 'API_KEY' is not defined",
     "output_type": "error",
     "traceback": [
      "\u001b[1;31m---------------------------------------------------------------------------\u001b[0m",
      "\u001b[1;31mNameError\u001b[0m                                 Traceback (most recent call last)",
      "Cell \u001b[1;32mIn[33], line 1\u001b[0m\n\u001b[1;32m----> 1\u001b[0m openai\u001b[38;5;241m.\u001b[39mapi_key \u001b[38;5;241m=\u001b[39m API_KEY\n\u001b[0;32m      4\u001b[0m \u001b[38;5;28;01mwith\u001b[39;00m \u001b[38;5;28mopen\u001b[39m(\u001b[38;5;124m'\u001b[39m\u001b[38;5;124minstances.jsonl\u001b[39m\u001b[38;5;124m'\u001b[39m, \u001b[38;5;124m'\u001b[39m\u001b[38;5;124mrb\u001b[39m\u001b[38;5;124m'\u001b[39m) \u001b[38;5;28;01mas\u001b[39;00m f:\n\u001b[0;32m      5\u001b[0m     response \u001b[38;5;241m=\u001b[39m client\u001b[38;5;241m.\u001b[39mfiles\u001b[38;5;241m.\u001b[39mcreate(file\u001b[38;5;241m=\u001b[39mf, purpose\u001b[38;5;241m=\u001b[39m\u001b[38;5;124m'\u001b[39m\u001b[38;5;124mfine-tune\u001b[39m\u001b[38;5;124m'\u001b[39m)\n",
      "\u001b[1;31mNameError\u001b[0m: name 'API_KEY' is not defined"
     ]
    }
   ],
   "source": [
    "openai.api_key = API_KEY\n",
    "\n",
    "\n",
    "with open('instances.jsonl', 'rb') as f:\n",
    "    response = client.files.create(file=f, purpose='fine-tune')\n"
   ]
  },
  {
   "cell_type": "code",
   "execution_count": null,
   "id": "db0e4c8b",
   "metadata": {},
   "outputs": [],
   "source": [
    "response"
   ]
  },
  {
   "cell_type": "code",
   "execution_count": null,
   "id": "599c86aa",
   "metadata": {},
   "outputs": [],
   "source": [
    "file_id = 'file-jyafPeRicBQ9RasGDSV7BNrA'"
   ]
  },
  {
   "cell_type": "code",
   "execution_count": null,
   "id": "95331f78",
   "metadata": {},
   "outputs": [],
   "source": [
    "response = client.fine_tuning.jobs.create(\n",
    "    training_file = file_id,\n",
    "    model = 'gpt-3.5-turbo'\n",
    ")"
   ]
  },
  {
   "cell_type": "code",
   "execution_count": null,
   "id": "e22c79be",
   "metadata": {},
   "outputs": [],
   "source": [
    "response"
   ]
  },
  {
   "cell_type": "code",
   "execution_count": null,
   "id": "255debed",
   "metadata": {},
   "outputs": [],
   "source": [
    "job_id = 'ftjob-CoTFCKSRxbnuvN60ky6Uup0L'"
   ]
  },
  {
   "cell_type": "code",
   "execution_count": null,
   "id": "7d5a5bb8",
   "metadata": {},
   "outputs": [],
   "source": [
    "client.fine_tuning.jobs.list(limit=1)"
   ]
  },
  {
   "cell_type": "code",
   "execution_count": null,
   "id": "d9e2bd24",
   "metadata": {},
   "outputs": [],
   "source": [
    "client.fine_tuning.jobs.retrieve(job_id)"
   ]
  },
  {
   "cell_type": "code",
   "execution_count": null,
   "id": "dd0471cf",
   "metadata": {},
   "outputs": [],
   "source": [
    "model_id = 'ft:gpt-3.5-turbo-0125:personal::9fQQAfbM'"
   ]
  },
  {
   "cell_type": "code",
   "execution_count": null,
   "id": "fa575582",
   "metadata": {},
   "outputs": [],
   "source": [
    "completion = client.chat.completions.create(\n",
    "    model = model_id,\n",
    "    messages = [\n",
    "        {\"role\": \"system\", \"content\": system_prompt},\n",
    "        {\"role\": \"user\", \"content\": \"Racing\"}\n",
    "    ]\n",
    ")"
   ]
  },
  {
   "cell_type": "code",
   "execution_count": null,
   "id": "ef66f923",
   "metadata": {},
   "outputs": [],
   "source": [
    "print(completion.choices[0].message.content)"
   ]
  },
  {
   "cell_type": "code",
   "execution_count": null,
   "id": "9968c4b2",
   "metadata": {},
   "outputs": [],
   "source": []
  }
 ],
 "metadata": {
  "kernelspec": {
   "display_name": "Python 3 (ipykernel)",
   "language": "python",
   "name": "python3"
  },
  "language_info": {
   "codemirror_mode": {
    "name": "ipython",
    "version": 3
   },
   "file_extension": ".py",
   "mimetype": "text/x-python",
   "name": "python",
   "nbconvert_exporter": "python",
   "pygments_lexer": "ipython3",
   "version": "3.11.7"
  }
 },
 "nbformat": 4,
 "nbformat_minor": 5
}
